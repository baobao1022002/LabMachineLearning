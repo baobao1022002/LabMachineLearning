{
  "nbformat": 4,
  "nbformat_minor": 0,
  "metadata": {
    "colab": {
      "provenance": [],
      "include_colab_link": true
    },
    "kernelspec": {
      "name": "python3",
      "display_name": "Python 3"
    },
    "language_info": {
      "name": "python"
    }
  },
  "cells": [
    {
      "cell_type": "markdown",
      "metadata": {
        "id": "view-in-github",
        "colab_type": "text"
      },
      "source": [
        "<a href=\"https://colab.research.google.com/github/baobao1022002/LabMachineLearning/blob/master/Lab_8_20130475_NguyenQuocBao.ipynb\" target=\"_parent\"><img src=\"https://colab.research.google.com/assets/colab-badge.svg\" alt=\"Open In Colab\"/></a>"
      ]
    },
    {
      "cell_type": "markdown",
      "source": [
        "# This lab deals with **GridSearchCV** for tuning the hyper-parameters of an estimator and applying vectorization techniques to the **movie reviews dataset** for classification task. \n",
        "\n",
        "*   **Deadline: 23:59, 17/4/2023**\n",
        "\n"
      ],
      "metadata": {
        "id": "LMzehe0sy5wr"
      }
    },
    {
      "cell_type": "markdown",
      "source": [
        "# Import libraries"
      ],
      "metadata": {
        "id": "H4nJmxp9zGX4"
      }
    },
    {
      "cell_type": "code",
      "execution_count": 27,
      "metadata": {
        "id": "DoVWQ8AEyc-C"
      },
      "outputs": [],
      "source": [
        "# code\n",
        "from sklearn import datasets \n",
        "from sklearn import svm\n",
        "from sklearn.model_selection import GridSearchCV\n",
        "from sklearn.neighbors import KNeighborsClassifier\n",
        "from sklearn.ensemble import RandomForestClassifier\n",
        "from prettytable import PrettyTable\n",
        "from sklearn.model_selection import train_test_split\n",
        "from sklearn.linear_model import LogisticRegression\n",
        "from sklearn.metrics import accuracy_score,confusion_matrix,precision_score,recall_score,f1_score"
      ]
    },
    {
      "cell_type": "markdown",
      "source": [
        "#Task 1. With **iris** dataset\n",
        "*  1.1. Apply **GridSearchCV** for **SVM** to find the best hyperparameters using the following param_grid.\n",
        "\n",
        "```\n",
        "param_grid = {'C': [0.1, 1, 10, 100, 1000],\n",
        "              'gamma': [1, 0.1, 0.01, 0.001, 0.0001],\n",
        "              'kernel': ['rbf','linear']}\n",
        "```\n",
        "\n",
        "\n"
      ],
      "metadata": {
        "id": "x_dG9SA5OhGT"
      }
    },
    {
      "cell_type": "code",
      "source": [
        "iris = datasets.load_iris()\n",
        "X = iris.data\n",
        "y = iris.target\n",
        "X_train, X_test, y_train, y_test = train_test_split(X, y, test_size = 0.3,random_state=1)\n",
        "\n",
        "\n",
        "param_grid = {'C': [0.1, 1, 10, 100, 1000],\n",
        "              'gamma': [1, 0.1, 0.01, 0.001, 0.0001],\n",
        "              'kernel': ['rbf','linear']}\n",
        "\n",
        "# Create an SVM classifier\n",
        "svm_model = svm.SVC()\n",
        "grid_searchSVM1 = GridSearchCV(svm_model, param_grid,scoring=\"accuracy\",n_jobs=-1,refit=True,cv=5)\n",
        "\n",
        "# Fit the GridSearchCV object to the data\n",
        "grid_searchSVM1.fit(X_train, y_train)\n",
        "\n",
        "# Print the best parameters and score\n",
        "print(\"Best parameters: \", grid_searchSVM1.best_params_)\n",
        "print(\"Best score: \", grid_searchSVM1.best_score_)\n",
        "\n",
        "\n"
      ],
      "metadata": {
        "colab": {
          "base_uri": "https://localhost:8080/"
        },
        "id": "Xl_CvmYN-O-_",
        "outputId": "564d8f9d-4b3a-4dce-d96d-34bf3cb3db01"
      },
      "execution_count": 18,
      "outputs": [
        {
          "output_type": "stream",
          "name": "stdout",
          "text": [
            "Best parameters:  {'C': 1, 'gamma': 1, 'kernel': 'linear'}\n",
            "Best score:  0.980952380952381\n"
          ]
        }
      ]
    },
    {
      "cell_type": "markdown",
      "source": [
        "*  1.2. Apply **GridSearchCV** for **kNN** to find the best hyperparameters using the following param_grid.\n",
        "\n",
        "```\n",
        "grid_params = { 'n_neighbors' : [5,7,9,11,13,15],\n",
        "               'weights' : ['uniform','distance'],\n",
        "               'metric' : ['minkowski','euclidean','manhattan']}\n",
        "```\n",
        "where\n",
        "\n",
        "    *  **n_neighbors**: Decide the best k based on the values we have computed earlier.\n",
        "    *  **weights**: Check whether adding weights to the data points is beneficial to the model or not. 'uniform' assigns no weight, while 'distance' weighs points by the inverse of their distances meaning nearer points will have more weight than the farther points.\n",
        "    *  **metric**: The distance metric to be used will calculating the similarity.\n"
      ],
      "metadata": {
        "id": "2g--8cng53sY"
      }
    },
    {
      "cell_type": "code",
      "source": [
        "#code\n",
        "kNN_model = KNeighborsClassifier(n_neighbors=5)\n",
        "grid_params = { 'n_neighbors' : [5,7,9,11,13,15],\n",
        "               'weights' : ['uniform','distance'],\n",
        "               'metric' : ['minkowski','euclidean','manhattan']}\n",
        "grid_searchkNN1 = GridSearchCV(kNN_model, grid_params,scoring=\"accuracy\",n_jobs=-1,refit=True,cv=5)\n",
        "\n",
        "\n",
        "\n",
        "# Fit the GridSearchCV object to the data\n",
        "grid_searchkNN1.fit(X_train, y_train)\n",
        "# Print the best parameters and score\n",
        "print(\"Best parameters: \", grid_searchkNN1.best_params_)\n",
        "print(\"Best score: \", grid_searchkNN1.best_score_)"
      ],
      "metadata": {
        "id": "fX0_kItYPism",
        "colab": {
          "base_uri": "https://localhost:8080/"
        },
        "outputId": "e8000aa9-a726-4b12-cbbc-5b842356ad3b"
      },
      "execution_count": 13,
      "outputs": [
        {
          "output_type": "stream",
          "name": "stdout",
          "text": [
            "Best parameters:  {'metric': 'minkowski', 'n_neighbors': 5, 'weights': 'uniform'}\n",
            "Best score:  0.961904761904762\n"
          ]
        }
      ]
    },
    {
      "cell_type": "markdown",
      "source": [
        "*  1.3. Apply **GridSearchCV** for **Random Forest** to find the best hyperparameters using the following param_grid.\n",
        "\n",
        "```\n",
        "param_grid = {\n",
        "    'n_estimators': [25, 50, 100, 150],\n",
        "    'max_features': ['sqrt', 'log2', None],\n",
        "    'max_depth': [3, 6, 9],\n",
        "    'max_leaf_nodes': [3, 6, 9],\n",
        "}\n",
        "```"
      ],
      "metadata": {
        "id": "3lQSOcjL_TIW"
      }
    },
    {
      "cell_type": "code",
      "source": [
        "#code\n",
        "RF_model=RandomForestClassifier(n_estimators=100)\n",
        "param_grid = {\n",
        "    'n_estimators': [25, 50, 100, 150],\n",
        "    'max_features': ['sqrt', 'log2', None],\n",
        "    'max_depth': [3, 6, 9],\n",
        "    'max_leaf_nodes': [3, 6, 9],\n",
        "}\n",
        "grid_searchRF1 = GridSearchCV(RF_model, param_grid, scoring=\"accuracy\",n_jobs=-1,refit=True,cv=5)\n",
        "\n",
        "\n",
        "\n",
        "# Fit the GridSearchCV object to the data\n",
        "grid_searchRF1.fit(X_train, y_train)\n",
        "# Print the best parameters and score\n",
        "print(\"Best parameters: \", grid_searchRF1.best_params_)\n",
        "print(\"Best score \", grid_searchRF1.best_score_)"
      ],
      "metadata": {
        "id": "OlyF9WpN_01p",
        "colab": {
          "base_uri": "https://localhost:8080/"
        },
        "outputId": "44d281a9-351b-4224-94ee-26a16d9f5494"
      },
      "execution_count": 14,
      "outputs": [
        {
          "output_type": "stream",
          "name": "stdout",
          "text": [
            "Best parameters:  {'max_depth': 3, 'max_features': 'sqrt', 'max_leaf_nodes': 9, 'n_estimators': 25}\n",
            "Best score  0.9523809523809523\n"
          ]
        }
      ]
    },
    {
      "cell_type": "markdown",
      "source": [
        "*   1.4 Compare the best obtained results from 1.1 to 1.3 (use PrettyTable to dispaly the results)"
      ],
      "metadata": {
        "id": "G3N7TD7s_3Kp"
      }
    },
    {
      "cell_type": "code",
      "source": [
        "\n",
        "table = PrettyTable(['Algorithm', 'Best Score', 'Best Parameters'])\n",
        "table.add_row(['GridSearchCV for SVM', grid_searchSVM1.best_score_, grid_searchSVM1.best_params_])\n",
        "table.add_row(['GridSearchCV for Random Forest', grid_searchkNN1.best_score_, grid_searchkNN1.best_params_])\n",
        "table.add_row(['GridSearchCV for kNN', grid_searchRF1.best_score_, grid_searchRF1.best_params_])\n",
        "print(table)"
      ],
      "metadata": {
        "colab": {
          "base_uri": "https://localhost:8080/"
        },
        "id": "FfTwb_X7BN84",
        "outputId": "b609f997-6f00-4bb8-e9d7-1701b4e9b735"
      },
      "execution_count": 57,
      "outputs": [
        {
          "output_type": "stream",
          "name": "stdout",
          "text": [
            "+--------------------------------+--------------------+-----------------------------------------------------------------------------------+\n",
            "|           Algorithm            |     Best Score     |                                  Best Parameters                                  |\n",
            "+--------------------------------+--------------------+-----------------------------------------------------------------------------------+\n",
            "|      GridSearchCV for SVM      | 0.980952380952381  |                      {'C': 1, 'gamma': 1, 'kernel': 'linear'}                     |\n",
            "| GridSearchCV for Random Forest | 0.961904761904762  |          {'metric': 'minkowski', 'n_neighbors': 5, 'weights': 'uniform'}          |\n",
            "|      GridSearchCV for kNN      | 0.9523809523809523 | {'max_depth': 3, 'max_features': 'sqrt', 'max_leaf_nodes': 9, 'n_estimators': 25} |\n",
            "+--------------------------------+--------------------+-----------------------------------------------------------------------------------+\n"
          ]
        }
      ]
    },
    {
      "cell_type": "markdown",
      "source": [
        "#Task 2. \n",
        "For breast cancer dataset (https://tinyurl.com/3vme8hr3) which could be loaded from datasets in sklearn as follows:\n",
        "\n",
        "```\n",
        "#Import scikit-learn dataset library\n",
        "from sklearn import datasets\n",
        "\n",
        "#Load dataset\n",
        "cancer = datasets.load_breast_cancer()\n",
        "```\n",
        "\n",
        "*   Apply **GridSearchCV** to different classification algorithms such as **SVM, kNN, LogisticRegression, RandomForest**.\n",
        "*   Compare the results obtained by the best hyperparameters among classification algorithms."
      ],
      "metadata": {
        "id": "kNv07ARGzOUm"
      }
    },
    {
      "cell_type": "markdown",
      "source": [
        "*   2.1. Apply **GridSearchCV** to **SVM** \n"
      ],
      "metadata": {
        "id": "pnoVB8J4vV36"
      }
    },
    {
      "cell_type": "code",
      "source": [
        "# Load dataset\n",
        "cancer = datasets.load_breast_cancer()\n",
        "X_train2, X_test2, y_train2, y_test2 = train_test_split(cancer['data'], cancer['target'], test_size = 0.3,random_state=1)\n",
        "param_grid = {'C': [0.1, 1, 10 ],\n",
        "              'gamma': [1, 0.1, 0.01],\n",
        "              'kernel': ['rbf','linear']}\n",
        "\n",
        "grid_searchSVM2 = GridSearchCV(svm_model, param_grid,scoring=\"accuracy\",n_jobs=-1,refit=True,cv=5)\n",
        "\n",
        "# Fit the GridSearchCV object to the data\n",
        "grid_searchSVM2.fit(X_train2, y_train2)\n",
        "\n",
        "# Print the best parameters and score\n",
        "print(\"Best parameters: \", grid_searchSVM2.best_params_)\n",
        "print(\"Best score: \", grid_searchSVM2.best_score_)\n",
        "\n",
        "\n"
      ],
      "metadata": {
        "id": "-ZTSvsJdvYqI",
        "colab": {
          "base_uri": "https://localhost:8080/"
        },
        "outputId": "d66e5d0a-8926-4109-a43e-384b889a241e"
      },
      "execution_count": 31,
      "outputs": [
        {
          "output_type": "stream",
          "name": "stdout",
          "text": [
            "Best parameters:  {'C': 0.1, 'gamma': 1, 'kernel': 'linear'}\n",
            "Best score:  0.954873417721519\n"
          ]
        }
      ]
    },
    {
      "cell_type": "markdown",
      "source": [
        "*   2.2. Apply **GridSearchCV** to **kNN** "
      ],
      "metadata": {
        "id": "ol1U_T_NvcqV"
      }
    },
    {
      "cell_type": "code",
      "source": [
        "\n",
        "grid_searchkNN2 = GridSearchCV(kNN_model, grid_params,scoring=\"accuracy\",n_jobs=-1,refit=True,cv=5)\n",
        "\n",
        "# Fit the GridSearchCV object to the data\n",
        "grid_searchkNN2.fit(X_train2, y_train2)\n",
        "# Print the best parameters and score\n",
        "print(\"Best parameters: \", grid_searchkNN2.best_params_)\n",
        "print(\"Best score: \", grid_searchkNN2.best_score_)"
      ],
      "metadata": {
        "colab": {
          "base_uri": "https://localhost:8080/"
        },
        "id": "DEihlr8RMZRq",
        "outputId": "163f5c3b-81b1-4606-cc64-7ecf6407b31d"
      },
      "execution_count": 32,
      "outputs": [
        {
          "output_type": "stream",
          "name": "stdout",
          "text": [
            "Best parameters:  {'metric': 'manhattan', 'n_neighbors': 9, 'weights': 'uniform'}\n",
            "Best score:  0.9296835443037974\n"
          ]
        }
      ]
    },
    {
      "cell_type": "markdown",
      "source": [
        "*   2.3. Apply **GridSearchCV** to **LogisticRegression** "
      ],
      "metadata": {
        "id": "pPkAvse-BxNa"
      }
    },
    {
      "cell_type": "code",
      "source": [
        "#code\n",
        "lr = LogisticRegression()\n",
        "lr_param_grid = {'C': [0.1, 1, 10]}\n",
        "grid_searchLr2 = GridSearchCV(lr, lr_param_grid, scoring=\"accuracy\",n_jobs=-1,refit=True,cv=5)\n",
        "grid_searchLr2.fit(X_train2, y_train2)\n",
        "\n",
        "# Print the best parameters and score\n",
        "print(\"Best parameters: \", grid_searchLr2.best_params_)\n",
        "print(\"Best score: \", grid_searchLr2.best_score_)"
      ],
      "metadata": {
        "id": "nyYjpHFbB1Ci",
        "colab": {
          "base_uri": "https://localhost:8080/"
        },
        "outputId": "c83fe17a-64d4-45a0-fe39-b6dd9dfa2d70"
      },
      "execution_count": 34,
      "outputs": [
        {
          "output_type": "stream",
          "name": "stdout",
          "text": [
            "Best parameters:  {'C': 10}\n",
            "Best score:  0.9298417721518988\n"
          ]
        },
        {
          "output_type": "stream",
          "name": "stderr",
          "text": [
            "/usr/local/lib/python3.9/dist-packages/sklearn/linear_model/_logistic.py:458: ConvergenceWarning: lbfgs failed to converge (status=1):\n",
            "STOP: TOTAL NO. of ITERATIONS REACHED LIMIT.\n",
            "\n",
            "Increase the number of iterations (max_iter) or scale the data as shown in:\n",
            "    https://scikit-learn.org/stable/modules/preprocessing.html\n",
            "Please also refer to the documentation for alternative solver options:\n",
            "    https://scikit-learn.org/stable/modules/linear_model.html#logistic-regression\n",
            "  n_iter_i = _check_optimize_result(\n"
          ]
        }
      ]
    },
    {
      "cell_type": "markdown",
      "source": [
        "*   2.4. Apply **GridSearchCV** to **RandomForest** "
      ],
      "metadata": {
        "id": "3NjSLo5jB1xY"
      }
    },
    {
      "cell_type": "code",
      "source": [
        "#code\n",
        "rf = RandomForestClassifier()\n",
        "rf_param_grid = {'n_estimators': [50, 100, 200], 'max_depth': [3, 5, 7]}\n",
        "\n",
        "grid_searchRf2 = GridSearchCV(rf, rf_param_grid, scoring=\"accuracy\",n_jobs=-1,refit=True,cv=5)\n",
        "grid_searchRf2.fit(X_train2, y_train2)\n",
        "\n",
        "# Print the best parameters and score\n",
        "print(\"Best parameters: \", grid_searchRf2.best_params_)\n",
        "print(\"Best score: \", grid_searchRf2.best_score_)"
      ],
      "metadata": {
        "id": "nktGtM0PB7XB",
        "colab": {
          "base_uri": "https://localhost:8080/"
        },
        "outputId": "93bd0d6d-5bc2-4fb0-c203-129cf6f1f0c2"
      },
      "execution_count": 35,
      "outputs": [
        {
          "output_type": "stream",
          "name": "stdout",
          "text": [
            "Best parameters:  {'max_depth': 5, 'n_estimators': 100}\n",
            "Best score:  0.959746835443038\n"
          ]
        }
      ]
    },
    {
      "cell_type": "markdown",
      "source": [
        "*   2.5. Compare the best obtained results among classification algorithms (use PrettyTable to dispaly the results) "
      ],
      "metadata": {
        "id": "NZJ3BSHpB9Dx"
      }
    },
    {
      "cell_type": "code",
      "source": [
        "#code\n",
        "table = PrettyTable(['Algorithm', 'Best Score', 'Best Parameters'])\n",
        "table.add_row(['GridSearchCV for SVM', grid_searchSVM2.best_score_, grid_searchSVM2.best_params_])\n",
        "table.add_row(['GridSearchCV for Random Forest', grid_searchkNN2.best_score_, grid_searchkNN2.best_params_])\n",
        "table.add_row(['GridSearchCV for kNN', grid_searchRf2.best_score_, grid_searchRf2.best_params_])\n",
        "table.add_row(['GridSearchCV for LogisticRegression',grid_searchLr2.best_score_,grid_searchLr2.best_params_])\n",
        "print(table)"
      ],
      "metadata": {
        "id": "8LS_IYfNCFEj",
        "colab": {
          "base_uri": "https://localhost:8080/"
        },
        "outputId": "70670033-8716-408e-9f88-d7a198069066"
      },
      "execution_count": 56,
      "outputs": [
        {
          "output_type": "stream",
          "name": "stdout",
          "text": [
            "+-------------------------------------+--------------------+-----------------------------------------------------------------+\n",
            "|              Algorithm              |     Best Score     |                         Best Parameters                         |\n",
            "+-------------------------------------+--------------------+-----------------------------------------------------------------+\n",
            "|         GridSearchCV for SVM        | 0.954873417721519  |            {'C': 0.1, 'gamma': 1, 'kernel': 'linear'}           |\n",
            "|    GridSearchCV for Random Forest   | 0.9296835443037974 | {'metric': 'manhattan', 'n_neighbors': 9, 'weights': 'uniform'} |\n",
            "|         GridSearchCV for kNN        | 0.959746835443038  |              {'max_depth': 5, 'n_estimators': 100}              |\n",
            "| GridSearchCV for LogisticRegression | 0.9298417721518988 |                            {'C': 10}                            |\n",
            "+-------------------------------------+--------------------+-----------------------------------------------------------------+\n"
          ]
        }
      ]
    },
    {
      "cell_type": "markdown",
      "source": [
        "#Task 3. \n",
        "The dataset consists of **2000 user-created movie reviews** archived on the IMDb(Internet Movie Database). The reviews are equally partitioned into a positive set and a negative set (1000+1000). Each review consists of a plain text file (.txt) and a class label representing the overall user opinion. \n",
        "The class attribute has only two values: **pos** (positive) or **neg** (negative).\n"
      ],
      "metadata": {
        "id": "b52OPWPD2afi"
      }
    },
    {
      "cell_type": "markdown",
      "source": [
        "*   3.1 Importing additional libraries"
      ],
      "metadata": {
        "id": "lDcxOQRmDz_h"
      }
    },
    {
      "cell_type": "code",
      "source": [
        "import nltk, random\n",
        "nltk.download('movie_reviews')#download movie reviews dataset\n",
        "from nltk.corpus import movie_reviews\n",
        "import pandas as pd\n",
        "import matplotlib.pyplot as plt\n",
        "import numpy as np\n",
        "from sklearn.model_selection import cross_val_score\n",
        "from collections import Counter\n",
        "from sklearn.model_selection import train_test_split"
      ],
      "metadata": {
        "id": "ZjyW06skDwvL",
        "colab": {
          "base_uri": "https://localhost:8080/"
        },
        "outputId": "149032b3-71bd-4216-e3e8-07ff42ab04e0"
      },
      "execution_count": 37,
      "outputs": [
        {
          "output_type": "stream",
          "name": "stderr",
          "text": [
            "[nltk_data] Downloading package movie_reviews to /root/nltk_data...\n",
            "[nltk_data]   Unzipping corpora/movie_reviews.zip.\n"
          ]
        }
      ]
    },
    {
      "cell_type": "markdown",
      "source": [
        "*   3.2. Movie reviews information"
      ],
      "metadata": {
        "id": "RJpsTIiyv-1h"
      }
    },
    {
      "cell_type": "code",
      "source": [
        "#code\n",
        "print(len(movie_reviews.fileids()))\n",
        "print(movie_reviews.categories())\n",
        "print(movie_reviews.words()[:100])\n",
        "print(movie_reviews.fileids()[:10])"
      ],
      "metadata": {
        "id": "5ZE7A0Au1Pg0",
        "colab": {
          "base_uri": "https://localhost:8080/"
        },
        "outputId": "7e77e0ae-039c-4141-f8f2-10f3878aaa28"
      },
      "execution_count": 38,
      "outputs": [
        {
          "output_type": "stream",
          "name": "stdout",
          "text": [
            "2000\n",
            "['neg', 'pos']\n",
            "['plot', ':', 'two', 'teen', 'couples', 'go', 'to', ...]\n",
            "['neg/cv000_29416.txt', 'neg/cv001_19502.txt', 'neg/cv002_17424.txt', 'neg/cv003_12683.txt', 'neg/cv004_12641.txt', 'neg/cv005_29357.txt', 'neg/cv006_17022.txt', 'neg/cv007_4992.txt', 'neg/cv008_29326.txt', 'neg/cv009_29417.txt']\n"
          ]
        }
      ]
    },
    {
      "cell_type": "markdown",
      "source": [
        "*   3.3. Create dataset from movie reviews"
      ],
      "metadata": {
        "id": "6pHmMpqMHS23"
      }
    },
    {
      "cell_type": "code",
      "source": [
        "documents = [(list(movie_reviews.words(fileid)), category)\n",
        "             for category in movie_reviews.categories()\n",
        "             for fileid in movie_reviews.fileids(category)]\n",
        "random.seed(123)\n",
        "random.shuffle(documents)"
      ],
      "metadata": {
        "id": "45aY6woMHSH5"
      },
      "execution_count": 39,
      "outputs": []
    },
    {
      "cell_type": "code",
      "source": [
        "print('Number of Reviews/Documents: {}'.format(len(documents)))\n",
        "print('Corpus Size (words): {}'.format(np.sum([len(d) for (d,l) in documents])))\n",
        "print('Sample Text of Doc 1:')\n",
        "print('-'*30)\n",
        "print(' '.join(documents[0][0][:50])) # first 50 words of the first document"
      ],
      "metadata": {
        "id": "NNke0Da5HqFa",
        "colab": {
          "base_uri": "https://localhost:8080/"
        },
        "outputId": "23791027-2977-4b2a-dcf8-a3c1b98ea4a8"
      },
      "execution_count": 40,
      "outputs": [
        {
          "output_type": "stream",
          "name": "stdout",
          "text": [
            "Number of Reviews/Documents: 2000\n",
            "Corpus Size (words): 1583820\n",
            "Sample Text of Doc 1:\n",
            "------------------------------\n",
            "most movies seem to release a third movie just so it can be called a trilogy . rocky iii seems to kind of fit in that category , but manages to be slightly unique . the rocky formula of \" rocky loses fight / rocky trains / rocky wins fight\n"
          ]
        }
      ]
    },
    {
      "cell_type": "code",
      "source": [
        "sentiment_distr = Counter([label for (words, label) in documents])\n",
        "print(sentiment_distr)"
      ],
      "metadata": {
        "id": "vVFUEhnXHsGd",
        "colab": {
          "base_uri": "https://localhost:8080/"
        },
        "outputId": "bc246bc2-df77-473b-c5d0-ba661f18e5cb"
      },
      "execution_count": 41,
      "outputs": [
        {
          "output_type": "stream",
          "name": "stdout",
          "text": [
            "Counter({'pos': 1000, 'neg': 1000})\n"
          ]
        }
      ]
    },
    {
      "cell_type": "markdown",
      "source": [
        "*   3.4. Train test split"
      ],
      "metadata": {
        "id": "jTXiEbMzHgVC"
      }
    },
    {
      "cell_type": "code",
      "source": [
        "train, test = train_test_split(documents, test_size = 0.33, random_state=42)"
      ],
      "metadata": {
        "id": "v_-0gZZFHvJN"
      },
      "execution_count": 42,
      "outputs": []
    },
    {
      "cell_type": "code",
      "source": [
        "## Sentiment Distrubtion for Train and Test\n",
        "print(Counter([label for (words, label) in train]))\n",
        "print(Counter([label for (words, label) in test]))"
      ],
      "metadata": {
        "id": "UUGlm5TGHvpV",
        "colab": {
          "base_uri": "https://localhost:8080/"
        },
        "outputId": "b7838fc8-7533-49d8-e61a-7fd72da4eb86"
      },
      "execution_count": 43,
      "outputs": [
        {
          "output_type": "stream",
          "name": "stdout",
          "text": [
            "Counter({'neg': 674, 'pos': 666})\n",
            "Counter({'pos': 334, 'neg': 326})\n"
          ]
        }
      ]
    },
    {
      "cell_type": "code",
      "source": [
        "X_train3 = [' '.join(words) for (words, label) in train]\n",
        "X_test3 = [' '.join(words) for (words, label) in test]\n",
        "y_train3 = [label for (words, label) in train]\n",
        "y_test3 = [label for (words, label) in test]"
      ],
      "metadata": {
        "id": "l1ppl_0RHx1P"
      },
      "execution_count": 48,
      "outputs": []
    },
    {
      "cell_type": "markdown",
      "source": [
        "*   3.5. Text Vectorization"
      ],
      "metadata": {
        "id": "7xUaXrjxH6Ee"
      }
    },
    {
      "cell_type": "code",
      "source": [
        "from sklearn.feature_extraction.text import CountVectorizer, TfidfVectorizer\n",
        "\n",
        "tfidf_vec = TfidfVectorizer(min_df = 10, token_pattern = r'[a-zA-Z]+')\n",
        "X_train_bow = tfidf_vec.fit_transform(X_train) # fit train\n",
        "X_test_bow = tfidf_vec.transform(X_test) # transform test\n",
        "\n"
      ],
      "metadata": {
        "id": "fzwM0nsIH-8l"
      },
      "execution_count": 62,
      "outputs": []
    },
    {
      "cell_type": "markdown",
      "source": [
        "*   3.6. Apply **SVM** with **GridSearchCV** "
      ],
      "metadata": {
        "id": "BP1vB3loIF28"
      }
    },
    {
      "cell_type": "code",
      "source": [
        "#code\n",
        "svm_param_grid = {\n",
        "    'C': [0.1, 1, 10],\n",
        "    'kernel': ['linear', 'rbf' ]\n",
        "}\n",
        "\n",
        "\n",
        "grid_searchSVM3 = GridSearchCV(svm_model, param_grid,scoring=\"accuracy\",n_jobs=-1,refit=True,cv=5)\n",
        "\n",
        "# Fit the GridSearchCV object to the data\n",
        "grid_searchSVM3.fit(X_train_bow, y_train)\n",
        "\n",
        "# Print the best parameters and score\n",
        "print(\"Best parameters: \", grid_searchSVM3.best_params_)\n",
        "print(\"Best score: \", grid_searchSVM3.best_score_)\n"
      ],
      "metadata": {
        "id": "b3FHQqh1Hlrd",
        "colab": {
          "base_uri": "https://localhost:8080/"
        },
        "outputId": "f76ca740-63e8-4a1e-e32d-10335dec042f"
      },
      "execution_count": 58,
      "outputs": [
        {
          "output_type": "stream",
          "name": "stdout",
          "text": [
            "Best parameters:  {'C': 10, 'kernel': 'rbf'}\n",
            "Best score:  0.8477611940298507\n"
          ]
        }
      ]
    },
    {
      "cell_type": "markdown",
      "source": [
        "*   3.7. Apply **RandomForest** with **GridSearchCV** "
      ],
      "metadata": {
        "id": "N1Fy8jYBIdxi"
      }
    },
    {
      "cell_type": "code",
      "source": [
        "#code\n",
        "rf_param_grid = {\n",
        "    'n_estimators': [100, 300],\n",
        "    'max_depth': [10, 30, None]\n",
        "}\n",
        "grid_searchRf3 = GridSearchCV(rf, rf_param_grid, scoring=\"accuracy\",n_jobs=-1,refit=True,cv=5)\n",
        "grid_searchRf3.fit(X_train_bow, y_train)\n",
        "\n",
        "# Print the best parameters and score\n",
        "print(\"Best parameters: \", grid_searchRf3.best_params_)\n",
        "print(\"Best score: \", grid_searchRf3.best_score_)"
      ],
      "metadata": {
        "id": "Fyfw2R-gIhWl",
        "colab": {
          "base_uri": "https://localhost:8080/"
        },
        "outputId": "42967e2f-47f0-43df-ab41-72bed881d11a"
      },
      "execution_count": 59,
      "outputs": [
        {
          "output_type": "stream",
          "name": "stdout",
          "text": [
            "Best parameters:  {'max_depth': 10, 'n_estimators': 300}\n",
            "Best score:  0.8059701492537312\n"
          ]
        }
      ]
    },
    {
      "cell_type": "markdown",
      "source": [
        "*   3.8. Apply **kNN** with **GridSearchCV** "
      ],
      "metadata": {
        "id": "_btsVKjIIiLT"
      }
    },
    {
      "cell_type": "code",
      "source": [
        "#code\n",
        "\n",
        "knn_param_grid = { 'n_neighbors' : [5,7],\n",
        "               'weights' : ['uniform','distance'],\n",
        "               'metric' : ['euclidean','manhattan']}\n",
        "grid_searchkNN3 = GridSearchCV(kNN_model, knn_param_grid,scoring=\"accuracy\",n_jobs=-1,refit=True,cv=5)\n",
        "\n",
        "# Fit the GridSearchCV object to the data\n",
        "grid_searchkNN3.fit(X_train_bow, y_train)\n",
        "# Print the best parameters and score\n",
        "print(\"Best parameters: \", grid_searchkNN3.best_params_)\n",
        "print(\"Best score: \", grid_searchkNN3.best_score_)"
      ],
      "metadata": {
        "id": "IZmFu1ZQImhn",
        "colab": {
          "base_uri": "https://localhost:8080/"
        },
        "outputId": "11efe8f1-108c-43f4-c9c5-a1ee76f9f711"
      },
      "execution_count": 65,
      "outputs": [
        {
          "output_type": "stream",
          "name": "stdout",
          "text": [
            "Best parameters:  {'metric': 'euclidean', 'n_neighbors': 7, 'weights': 'distance'}\n",
            "Best score:  0.628358208955224\n"
          ]
        }
      ]
    },
    {
      "cell_type": "markdown",
      "source": [
        "*   3.9. Apply **LogisticRegression** with **GridSearchCV** "
      ],
      "metadata": {
        "id": "0Ix_HeVGIvDu"
      }
    },
    {
      "cell_type": "code",
      "source": [
        "#code\n",
        "lr_param_grid = {\n",
        "    'C': [0.1, 1, 10]\n",
        "    \n",
        "}\n",
        "\n",
        "grid_searchLr3 = GridSearchCV(lr, lr_param_grid, scoring=\"accuracy\",n_jobs=-1,refit=True,cv=5)\n",
        "grid_searchLr3.fit(X_train_bow, y_train)\n",
        "\n",
        "# Print the best parameters and score\n",
        "print(\"Best parameters: \", grid_searchLr3.best_params_)\n",
        "print(\"Best score: \", grid_searchLr3.best_score_)"
      ],
      "metadata": {
        "id": "sTd3alCMIr-i",
        "colab": {
          "base_uri": "https://localhost:8080/"
        },
        "outputId": "5f7dd3c3-bc34-4c89-962a-64959c087e07"
      },
      "execution_count": 61,
      "outputs": [
        {
          "output_type": "stream",
          "name": "stdout",
          "text": [
            "Best parameters:  {'C': 10}\n",
            "Best score:  0.8492537313432835\n"
          ]
        }
      ]
    },
    {
      "cell_type": "markdown",
      "source": [
        "*   3.10. Compare the best obtained results among classification algorithms (use PrettyTable to dispaly the results) "
      ],
      "metadata": {
        "id": "nhYF2y6eI058"
      }
    },
    {
      "cell_type": "code",
      "source": [
        "\n",
        "table = PrettyTable(['Algorithm', 'Best Score', 'Best Parameters'])\n",
        "table.add_row(['GridSearchCV for SVM', grid_searchSVM3.best_score_, grid_searchSVM3.best_params_])\n",
        "table.add_row(['GridSearchCV for Random Forest', grid_searchkNN3.best_score_, grid_searchkNN3.best_params_])\n",
        "table.add_row(['GridSearchCV for kNN', grid_searchRf3.best_score_, grid_searchRf3.best_params_])\n",
        "table.add_row(['GridSearchCV for Logistic Regression', grid_searchLr3.best_score_, grid_searchLr3.best_params_])\n",
        "print(table)"
      ],
      "metadata": {
        "colab": {
          "base_uri": "https://localhost:8080/"
        },
        "id": "mgj6w5Rrchho",
        "outputId": "cc84471d-50c1-4035-def3-69f831ee4342"
      },
      "execution_count": 66,
      "outputs": [
        {
          "output_type": "stream",
          "name": "stdout",
          "text": [
            "+--------------------------------------+--------------------+------------------------------------------------------------------+\n",
            "|              Algorithm               |     Best Score     |                         Best Parameters                          |\n",
            "+--------------------------------------+--------------------+------------------------------------------------------------------+\n",
            "|         GridSearchCV for SVM         | 0.8477611940298507 |                    {'C': 10, 'kernel': 'rbf'}                    |\n",
            "|    GridSearchCV for Random Forest    | 0.628358208955224  | {'metric': 'euclidean', 'n_neighbors': 7, 'weights': 'distance'} |\n",
            "|         GridSearchCV for kNN         | 0.8059701492537312 |              {'max_depth': 10, 'n_estimators': 300}              |\n",
            "| GridSearchCV for Logistic Regression | 0.8492537313432835 |                            {'C': 10}                             |\n",
            "+--------------------------------------+--------------------+------------------------------------------------------------------+\n"
          ]
        }
      ]
    },
    {
      "cell_type": "markdown",
      "source": [
        "#Finally,\n",
        "Save a copy in your Github. Remember renaming the notebook."
      ],
      "metadata": {
        "id": "Ok7RGkea_b7n"
      }
    }
  ]
}