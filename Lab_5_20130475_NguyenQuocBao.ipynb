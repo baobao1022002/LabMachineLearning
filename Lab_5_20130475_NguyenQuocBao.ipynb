{
  "cells": [
    {
      "cell_type": "markdown",
      "metadata": {
        "id": "view-in-github",
        "colab_type": "text"
      },
      "source": [
        "<a href=\"https://colab.research.google.com/github/baobao1022002/LabMachineLearning/blob/master/Lab_5_20130475_NguyenQuocBao.ipynb\" target=\"_parent\"><img src=\"https://colab.research.google.com/assets/colab-badge.svg\" alt=\"Open In Colab\"/></a>"
      ]
    },
    {
      "cell_type": "markdown",
      "metadata": {
        "id": "LMzehe0sy5wr"
      },
      "source": [
        "# This lab is to deal with **SVM** to classification tasks and compare its performance with other competitive algorithms. In general, **SVM** is one of the most popular and widely used supervised machine learning algorithms.\n",
        "\n",
        "*   **Deadline: 23:59, 17/03/2023**\n",
        "\n"
      ]
    },
    {
      "cell_type": "markdown",
      "metadata": {
        "id": "H4nJmxp9zGX4"
      },
      "source": [
        "# Import libraries"
      ]
    },
    {
      "cell_type": "code",
      "execution_count": 1,
      "metadata": {
        "id": "d3H68ncHKcN0"
      },
      "outputs": [],
      "source": [
        "import pandas as pd\n",
        "import numpy as np\n",
        "from sklearn.model_selection import train_test_split\n",
        "from sklearn.metrics import accuracy_score,confusion_matrix,precision_score,recall_score,f1_score\n",
        "from sklearn.metrics import classification_report, confusion_matrix\n",
        "from sklearn.linear_model import LogisticRegression\n",
        "from sklearn import svm\n",
        "from sklearn import datasets\n",
        "from sklearn.metrics import classification_report, confusion_matrix\n",
        "from prettytable import PrettyTable\n",
        "from sklearn.neighbors import KNeighborsClassifier\n",
        "from sklearn.tree import DecisionTreeClassifier\n",
        "from sklearn import tree\n",
        "from sklearn.svm import SVC\n",
        "import time\n",
        "from keras.datasets import mnist\n"
      ]
    },
    {
      "cell_type": "markdown",
      "metadata": {
        "id": "kNv07ARGzOUm"
      },
      "source": [
        "#Task 1. \n",
        "For breast cancer dataset (https://tinyurl.com/3vme8hr3) which could be loaded from datasets in sklearn as follows:\n",
        "\n",
        "```\n",
        "#Import scikit-learn dataset library\n",
        "from sklearn import datasets\n",
        "\n",
        "#Load dataset\n",
        "cancer = datasets.load_breast_cancer()\n",
        "```\n",
        "\n",
        "*   1.1.\tApply SVM algorithm to above dataset using linear kernel.\n",
        "*   1.2.\tCompare the obtained results with other competitive algorithms (Logistic Regression, Decision Tree, kNN) based on metrics: accuracy, precision, recall, f1 measures.\n",
        "\n"
      ]
    },
    {
      "cell_type": "code",
      "execution_count": 36,
      "metadata": {
        "id": "sOsg77IBzEyo"
      },
      "outputs": [],
      "source": [
        "# Import scikit-learn dataset library\n",
        "\n",
        "\n",
        "# Load dataset\n",
        "cancer = datasets.load_breast_cancer()\n",
        "\n"
      ]
    },
    {
      "cell_type": "code",
      "execution_count": 37,
      "metadata": {
        "id": "jSO6gRMjFMNT"
      },
      "outputs": [],
      "source": [
        "\n",
        "X_train, X_test, Y_train, Y_test = train_test_split(cancer['data'], cancer['target'], test_size = 0.3,random_state=0)"
      ]
    },
    {
      "cell_type": "code",
      "execution_count": null,
      "metadata": {
        "colab": {
          "base_uri": "https://localhost:8080/"
        },
        "id": "j_JXEvqYL_Ng",
        "outputId": "2be0c8c2-d435-4ab5-c79a-cee05e66d882"
      },
      "outputs": [
        {
          "name": "stderr",
          "output_type": "stream",
          "text": [
            "/usr/local/lib/python3.9/dist-packages/sklearn/linear_model/_logistic.py:458: ConvergenceWarning: lbfgs failed to converge (status=1):\n",
            "STOP: TOTAL NO. of ITERATIONS REACHED LIMIT.\n",
            "\n",
            "Increase the number of iterations (max_iter) or scale the data as shown in:\n",
            "    https://scikit-learn.org/stable/modules/preprocessing.html\n",
            "Please also refer to the documentation for alternative solver options:\n",
            "    https://scikit-learn.org/stable/modules/linear_model.html#logistic-regression\n",
            "  n_iter_i = _check_optimize_result(\n"
          ]
        }
      ],
      "source": [
        "\n",
        "classifier = LogisticRegression(random_state = 0)\n",
        "classifier.fit(X_train, Y_train) \n",
        "\n",
        "y_predReg = classifier.predict(X_test)\n",
        "\n",
        "preReg=precision_score(Y_test, y_predReg,average='macro')\n",
        "recReg=recall_score(Y_test, y_predReg,average=\"macro\")\n",
        "f1ScoreReg=f1_score(Y_test, y_predReg,average=\"macro\")\n",
        "accReg=accuracy_score(Y_test, y_predReg)"
      ]
    },
    {
      "cell_type": "code",
      "execution_count": null,
      "metadata": {
        "id": "Gpepx0tbj0eY"
      },
      "outputs": [],
      "source": [
        "\n",
        "model = KNeighborsClassifier(n_neighbors=5)\n",
        "# Train the model using the training sets\n",
        "model.fit(X_train,Y_train)\n",
        "#Predict Output\n",
        "y_predKNN = model.predict(X_test) \n",
        "\n",
        "preKNN=precision_score(Y_test, y_predKNN,average='macro')\n",
        "recKNN=recall_score(Y_test, y_predKNN,average=\"macro\")\n",
        "f1ScoreKNN=f1_score(Y_test, y_predKNN,average=\"macro\")\n",
        "accKNN=accuracy_score(Y_test, y_predKNN)"
      ]
    },
    {
      "cell_type": "code",
      "execution_count": null,
      "metadata": {
        "colab": {
          "base_uri": "https://localhost:8080/",
          "height": 248
        },
        "id": "cV2f6hp1kk86",
        "outputId": "4ab4a418-e80d-4b46-ce9b-ce5edd994252"
      },
      "outputs": [
        {
          "data": {
            "image/png": "[encoded data removed]",
            "text/plain": [
              "<Figure size 432x288 with 1 Axes>"
            ]
          },
          "metadata": {},
          "output_type": "display_data"
        }
      ],
      "source": [
        "\n",
        "clf_modelDecisionTree = DecisionTreeClassifier(criterion=\"gini\", random_state=42,\n",
        "max_depth=3, min_samples_leaf=5)\n",
        "clf_modelDecisionTree.fit(X_train,Y_train)\n",
        "# Plot decision tree\n",
        "tree.plot_tree(clf_modelDecisionTree)\n",
        "# Predict X_test\n",
        "y_predDecisionTree = clf_modelDecisionTree.predict(X_test)\n",
        "\n",
        "preDecisionTree=precision_score(Y_test, y_predDecisionTree,average='macro')\n",
        "recDecisionTree=recall_score(Y_test, y_predDecisionTree,average=\"macro\")\n",
        "f1ScoreDecisionTree=f1_score(Y_test, y_predDecisionTree,average=\"macro\")\n",
        "accDecisionTree=accuracy_score(Y_test, y_predDecisionTree)"
      ]
    },
    {
      "cell_type": "code",
      "execution_count": null,
      "metadata": {
        "id": "EfU2BjioK_xS"
      },
      "outputs": [],
      "source": [
        "\n",
        "\n",
        "\n",
        "clf = svm.SVC(kernel='linear') # Linear Kernel\n",
        "clf.fit(X_train,Y_train)\n",
        "\n",
        "#Predict the response for test dataset\n",
        "y_predSVM = clf.predict(X_test)\n",
        "\n",
        "preSVM=precision_score(Y_test, y_predSVM,average='macro')\n",
        "recSVM=recall_score(Y_test, y_predSVM,average=\"macro\")\n",
        "f1ScoreSVM=f1_score(Y_test, y_predSVM,average=\"macro\")\n",
        "accSVM=accuracy_score(Y_test, y_predSVM)\n",
        "\n",
        "\n"
      ]
    },
    {
      "cell_type": "code",
      "execution_count": null,
      "metadata": {
        "colab": {
          "base_uri": "https://localhost:8080/"
        },
        "id": "QgqtMX3YPCTG",
        "outputId": "03550f6e-48e0-4892-c54c-1de4e40b382e"
      },
      "outputs": [
        {
          "name": "stdout",
          "output_type": "stream",
          "text": [
            "+--------------------+--------------------+---------------------+--------------------+--------------------+\n",
            "| Name metric mesura |     SVM Kernel     | Logistic Regression |        kNN         |   Decision Tree    |\n",
            "+--------------------+--------------------+---------------------+--------------------+--------------------+\n",
            "|      Accuracy      | 0.9777777777777777 |  0.9532163742690059 | 0.9777777777777777 | 0.9111111111111111 |\n",
            "|     Precision      | 0.9722222222222222 |  0.9456084959816302 | 0.9722222222222222 | 0.912962962962963  |\n",
            "|       Recall       | 0.9814814814814815 |  0.9563492063492063 | 0.9777777777777777 | 0.8905723905723906 |\n",
            "|    F1 measures     | 0.975983436853002  |  0.9503628447024675 | 0.975983436853002  | 0.8982456140350877 |\n",
            "+--------------------+--------------------+---------------------+--------------------+--------------------+\n"
          ]
        }
      ],
      "source": [
        "\n",
        "\n",
        "t=PrettyTable(['Name metric mesura','SVM Kernel','Logistic Regression','kNN','Decision Tree'])\n",
        "t.add_row(['Accuracy',accSVM,accReg,accKNN,accDecisionTree])\n",
        "t.add_row(['Precision',preSVM,preReg,preKNN,preDecisionTree])\n",
        "t.add_row(['Recall',recSVM,recReg,accKNN,recDecisionTree])\n",
        "t.add_row(['F1 measures',f1ScoreSVM,f1ScoreReg,f1ScoreKNN,f1ScoreDecisionTree])\n",
        "print(t)\n",
        "\n",
        "\n",
        "\n"
      ]
    },
    {
      "cell_type": "markdown",
      "metadata": {
        "id": "S43IoUT-0OQq"
      },
      "source": [
        "#Task 2. \n",
        "\n",
        "*   1.1.\tPerform SVM algorithm to **Iris dataset** using **linear kernel**.\n",
        "*   1.2.\tCompare the obtained results in 1.1 with SVM using other kernels (**Polynomial Kernel, Gaussian Kernel, Sigmoid Kernel, Radial Basis Function Kernel**). Some metrics could be used: accuracy, precision, recall, f1 measures\n",
        "\n",
        "\n",
        "\n"
      ]
    },
    {
      "cell_type": "code",
      "execution_count": 20,
      "metadata": {
        "id": "G6Q2X_dSHv_0"
      },
      "outputs": [],
      "source": [
        "data4 = datasets.load_iris()\n",
        "X2=data4['data']\n",
        "Y2=data4['target']\n",
        "X_train2, X_test2, Y_train2, Y_test2 = train_test_split(X2, Y2, test_size = 0.3,random_state=0)"
      ]
    },
    {
      "cell_type": "code",
      "execution_count": 21,
      "metadata": {
        "id": "eIofaFmFH0by"
      },
      "outputs": [],
      "source": [
        "clfLinear = svm.SVC(kernel='linear') # linear kernel\n",
        "clfLinear.fit(X_train2, Y_train2)\n",
        "\n",
        "#Predict the response for test dataset\n",
        "y_predSVMLinear = clfLinear.predict(X_test2)\n",
        "\n",
        "preSVMLinear=precision_score(Y_test2, y_predSVMLinear,average='macro')\n",
        "recSVMLinear=recall_score(Y_test2, y_predSVMLinear,average=\"macro\")\n",
        "f1ScoreSVMLinear=f1_score(Y_test2, y_predSVMLinear,average=\"macro\")\n",
        "accSVMLinear=accuracy_score(Y_test2, y_predSVMLinear)\n"
      ]
    },
    {
      "cell_type": "code",
      "execution_count": 22,
      "metadata": {
        "id": "OVvbBAlvXuzE"
      },
      "outputs": [],
      "source": [
        "clfPoly = svm.SVC(kernel='poly') # Polynomial Kernel\n",
        "clfPoly.fit(X_train2, Y_train2)\n",
        "#Predict the response for test dataset\n",
        "y_predSVMPoly = clfPoly.predict(X_test2)\n",
        "\n",
        "preSVMPoly=precision_score(Y_test2, y_predSVMPoly,average='macro')\n",
        "recSVMPoly=recall_score(Y_test2, y_predSVMPoly,average=\"macro\")\n",
        "f1ScoreSVMPoly=f1_score(Y_test2, y_predSVMPoly,average=\"macro\")\n",
        "accSVMPoly=accuracy_score(Y_test2, y_predSVMPoly)\n"
      ]
    },
    {
      "cell_type": "code",
      "execution_count": 23,
      "metadata": {
        "id": "v7yU9uXaXeIC"
      },
      "outputs": [],
      "source": [
        "clfRBF = svm.SVC(kernel='rbf') #  Radial Basis Function Kernel\n",
        "clfRBF.fit(X_train2, Y_train2)\n",
        "#Predict the response for test dataset\n",
        "y_predSVMRBF = clfRBF.predict(X_test2)\n",
        "\n",
        "preSVMRBF=precision_score(Y_test2, y_predSVMRBF,average='macro')\n",
        "recSVMRBF=recall_score(Y_test2, y_predSVMRBF,average=\"macro\")\n",
        "f1ScoreSVMRBF=f1_score(Y_test2, y_predSVMRBF,average=\"macro\")\n",
        "accSVMRBF=accuracy_score(Y_test2, y_predSVMRBF)\n",
        "\n"
      ]
    },
    {
      "cell_type": "code",
      "execution_count": 24,
      "metadata": {
        "colab": {
          "base_uri": "https://localhost:8080/"
        },
        "id": "S1eFB6Xua8tW",
        "outputId": "89747ac3-2b96-4939-c8eb-988f46549ae4"
      },
      "outputs": [
        {
          "output_type": "stream",
          "name": "stderr",
          "text": [
            "/usr/local/lib/python3.9/dist-packages/sklearn/metrics/_classification.py:1344: UndefinedMetricWarning: Precision is ill-defined and being set to 0.0 in labels with no predicted samples. Use `zero_division` parameter to control this behavior.\n",
            "  _warn_prf(average, modifier, msg_start, len(result))\n"
          ]
        }
      ],
      "source": [
        "clfSigmoid = svm.SVC(kernel='sigmoid') #  Sigmoid Kernel\n",
        "clfSigmoid.fit(X_train2, Y_train2)\n",
        "#Predict the response for test dataset\n",
        "y_predSVMSigmoid = clfSigmoid.predict(X_test2)\n",
        "\n",
        "preSVMSigmoid=precision_score(Y_test2, y_predSVMSigmoid,average='macro')\n",
        "recSVMSigmoid=recall_score(Y_test2, y_predSVMSigmoid,average=\"macro\")\n",
        "f1ScoreSVMSigmoid=f1_score(Y_test2, y_predSVMSigmoid,average=\"macro\")\n",
        "accSVMSigmoid=accuracy_score(Y_test2, y_predSVMSigmoid)\n",
        "\n"
      ]
    },
    {
      "cell_type": "code",
      "execution_count": 26,
      "metadata": {
        "colab": {
          "base_uri": "https://localhost:8080/"
        },
        "id": "reILJ1HJR7iM",
        "outputId": "6e877bf3-951c-4699-e76c-e9097a3ecd7e"
      },
      "outputs": [
        {
          "output_type": "stream",
          "name": "stdout",
          "text": [
            "+--------------------+--------------------+--------------------+---------------------+------------------------------+\n",
            "| Name metric mesura |   Linear kernel    | Polynomial Kernel  |    Sigmoid Kernel   | Radial Basis Function Kernel |\n",
            "+--------------------+--------------------+--------------------+---------------------+------------------------------+\n",
            "|      Accuracy      | 0.9777777777777777 | 0.9777777777777777 | 0.24444444444444444 |      0.9777777777777777      |\n",
            "|     Precision      | 0.9722222222222222 | 0.9722222222222222 | 0.08148148148148147 |      0.9722222222222222      |\n",
            "|       Recall       | 0.9814814814814815 | 0.9814814814814815 |  0.3333333333333333 |      0.9814814814814815      |\n",
            "|    F1 measures     | 0.975983436853002  | 0.975983436853002  | 0.13095238095238096 |      0.975983436853002       |\n",
            "+--------------------+--------------------+--------------------+---------------------+------------------------------+\n"
          ]
        }
      ],
      "source": [
        "t=PrettyTable(['Name metric mesura','Linear kernel','Polynomial Kernel','Sigmoid Kernel', 'Radial Basis Function Kernel'])\n",
        "t.add_row(['Accuracy',accSVMLinear,accSVMPoly,accSVMSigmoid,accSVMRBF])\n",
        "t.add_row(['Precision',preSVMLinear,preSVMPoly,preSVMSigmoid,preSVMRBF])\n",
        "t.add_row(['Recall',recSVMLinear,recSVMPoly,recSVMSigmoid,recSVMRBF])\n",
        "t.add_row(['F1 measures',f1ScoreSVMLinear,f1ScoreSVMPoly,f1ScoreSVMSigmoid,f1ScoreSVMRBF])\n",
        "print(t)\n",
        "\n",
        "\n",
        "\n",
        "\n",
        "\n"
      ]
    },
    {
      "cell_type": "markdown",
      "metadata": {
        "id": "b52OPWPD2afi"
      },
      "source": [
        "#Task 3. \n",
        "Compare the performance of selected classification algorithms (Decision Tree, kNN, Logistic Regression) and SVM (using different kernels) with mnist dataset based on accuracy, precision, recall, f1 measures.\n"
      ]
    },
    {
      "cell_type": "code",
      "execution_count": 2,
      "metadata": {
        "id": "PjtHmpdSWs4t",
        "colab": {
          "base_uri": "https://localhost:8080/"
        },
        "outputId": "8a57fbed-ecd7-447f-a4fb-03f18c6a197c"
      },
      "outputs": [
        {
          "output_type": "stream",
          "name": "stderr",
          "text": [
            "/usr/local/lib/python3.9/dist-packages/sklearn/datasets/_openml.py:968: FutureWarning: The default value of `parser` will change from `'liac-arff'` to `'auto'` in 1.4. You can set `parser='auto'` to silence this warning. Therefore, an `ImportError` will be raised from 1.4 if the dataset is dense and pandas is not installed. Note that the pandas parser may return different data types. See the Notes Section in fetch_openml's API doc for details.\n",
            "  warn(\n"
          ]
        }
      ],
      "source": [
        "from sklearn.datasets import fetch_openml\n",
        "from sklearn.model_selection import train_test_split\n",
        "\n",
        "# Fetch the MNIST dataset from OpenML\n",
        "mnist = fetch_openml('mnist_784')\n",
        "\n",
        "# Split the dataset into training and testing sets\n",
        "X_train3, X_test3, Y_train3, Y_test3 = train_test_split(mnist.data, mnist.target, test_size=0.3, random_state=0)\n"
      ]
    },
    {
      "cell_type": "code",
      "source": [
        "classifier3 = LogisticRegression(random_state = 0)\n",
        "classifier3.fit(X_train3, Y_train3) \n",
        "\n",
        "y_predReg3 = classifier3.predict(X_test3)\n",
        "\n",
        "preReg3=precision_score(Y_test3, y_predReg3,average='macro')\n",
        "recReg3=recall_score(Y_test3, y_predReg3,average=\"macro\")\n",
        "f1ScoreReg3=f1_score(Y_test3, y_predReg3,average=\"macro\")\n",
        "accReg3=accuracy_score(Y_test3, y_predReg3)"
      ],
      "metadata": {
        "colab": {
          "base_uri": "https://localhost:8080/"
        },
        "id": "n_nZGG2Ylp9G",
        "outputId": "88f25d28-fcaa-444d-81fb-7aef77fb331d"
      },
      "execution_count": 3,
      "outputs": [
        {
          "output_type": "stream",
          "name": "stderr",
          "text": [
            "/usr/local/lib/python3.9/dist-packages/sklearn/linear_model/_logistic.py:458: ConvergenceWarning: lbfgs failed to converge (status=1):\n",
            "STOP: TOTAL NO. of ITERATIONS REACHED LIMIT.\n",
            "\n",
            "Increase the number of iterations (max_iter) or scale the data as shown in:\n",
            "    https://scikit-learn.org/stable/modules/preprocessing.html\n",
            "Please also refer to the documentation for alternative solver options:\n",
            "    https://scikit-learn.org/stable/modules/linear_model.html#logistic-regression\n",
            "  n_iter_i = _check_optimize_result(\n"
          ]
        }
      ]
    },
    {
      "cell_type": "code",
      "source": [
        "model3 = KNeighborsClassifier(n_neighbors=5)\n",
        "# Train the model3 using the training sets\n",
        "model3.fit(X_train3,Y_train3)\n",
        "#Predict Output\n",
        "y_predKNN3 = model3.predict(X_test3) \n",
        "\n",
        "preKNN3=precision_score(Y_test3, y_predKNN3,average='macro')\n",
        "recKNN3=recall_score(Y_test3, y_predKNN3,average=\"macro\")\n",
        "f1ScoreKNN3=f1_score(Y_test3, y_predKNN3,average=\"macro\")\n",
        "accKNN3=accuracy_score(Y_test3, y_predKNN3)"
      ],
      "metadata": {
        "id": "kxMFu_g4lwi5"
      },
      "execution_count": 4,
      "outputs": []
    },
    {
      "cell_type": "code",
      "source": [
        "clf_modelDecisionTree3 = DecisionTreeClassifier(criterion=\"gini\", random_state=42,\n",
        "max_depth=3, min_samples_leaf=5)\n",
        "clf_modelDecisionTree3.fit(X_train3,Y_train3)\n",
        "# Plot decision tree\n",
        "tree.plot_tree(clf_modelDecisionTree3)\n",
        "# Predict X_test\n",
        "y_predDecisionTree3 = clf_modelDecisionTree3.predict(X_test3)\n",
        "\n",
        "preDecisionTree3=precision_score(Y_test3, y_predDecisionTree3,average='macro')\n",
        "recDecisionTree3=recall_score(Y_test3, y_predDecisionTree3,average=\"macro\")\n",
        "f1ScoreDecisionTree3=f1_score(Y_test3, y_predDecisionTree3,average=\"macro\")\n",
        "accDecisionTree3=accuracy_score(Y_test3, y_predDecisionTree3)"
      ],
      "metadata": {
        "colab": {
          "base_uri": "https://localhost:8080/",
          "height": 303
        },
        "id": "tm5Sg6yDlxPb",
        "outputId": "4fbe7c62-33cd-409f-85a1-46dda4f4390f"
      },
      "execution_count": 5,
      "outputs": [
        {
          "output_type": "stream",
          "name": "stderr",
          "text": [
            "/usr/local/lib/python3.9/dist-packages/sklearn/metrics/_classification.py:1344: UndefinedMetricWarning: Precision is ill-defined and being set to 0.0 in labels with no predicted samples. Use `zero_division` parameter to control this behavior.\n",
            "  _warn_prf(average, modifier, msg_start, len(result))\n"
          ]
        },
        {
          "output_type": "display_data",
          "data": {
            "text/plain": [
              "<Figure size 432x288 with 1 Axes>"
            ],
            "image/png": "[encoded data removed]"
          },
          "metadata": {
            "needs_background": "light"
          }
        }
      ]
    },
    {
      "cell_type": "code",
      "source": [
        "# clfLinear3 = svm.SVC(kernel='linear') # linear kernel\n",
        "# clfLinear3.fit(X_train3, Y_train3)\n",
        "\n",
        "# #Predict the response for test dataset\n",
        "# y_predSVMLinear3 = clfLinear3.predict(X_test3)\n",
        "\n",
        "# preSVMLinear3=precision_score(Y_test3, y_predSVMLinear3,average='macro')\n",
        "# recSVMLinear3=recall_score(Y_test3, y_predSVMLinear3,average=\"macro\")\n",
        "# f1ScoreSVMLinear3=f1_score(Y_test3, y_predSVMLinear3,average=\"macro\")\n",
        "# accSVMLinear3=accuracy_score(Y_test3, y_predSVMLinear3)\n"
      ],
      "metadata": {
        "id": "AOiTm9HPl0h2"
      },
      "execution_count": null,
      "outputs": []
    },
    {
      "cell_type": "code",
      "source": [
        "# mấy cái function của kernel khác nó chạy lâu cực luôn thầy :((\n",
        "    \n",
        "# clfPoly3 = svm.SVC(kernel='poly') # Polynomial Kernel\n",
        "# clfPoly3.fit(X_train3, Y_train3)\n",
        "# #Predict the response for test dataset\n",
        "# y_predSVMPoly3 = clfPoly3.predict(X_test3)\n",
        "\n",
        "# preSVMPoly3=precision_score(Y_test3, y_predSVMPoly3,average='macro')\n",
        "# recSVMPoly3=recall_score(Y_test3, y_predSVMPoly3,average=\"macro\")\n",
        "# f1ScoreSVMPoly3=f1_score(Y_test3, y_predSVMPoly3,average=\"macro\")\n",
        "# accSVMPoly3=accuracy_score(Y_test3, y_predSVMPoly3)"
      ],
      "metadata": {
        "id": "NuGKcU2PmBZd"
      },
      "execution_count": null,
      "outputs": []
    },
    {
      "cell_type": "code",
      "source": [
        "# clfRBF3 = svm.SVC(kernel='rbf') #  Radial Basis Function Kernel\n",
        "# clfRBF3.fit(X_train3, Y_train3)\n",
        "# #Predict the response for test dataset\n",
        "# y_predSVMRBF3 = clfRBF3.predict(X_test3)\n",
        "\n",
        "# preSVMRBF3=precision_score(Y_test3, y_predSVMRBF3,average='macro')\n",
        "# recSVMRBF3=recall_score(Y_test3, y_predSVMRBF3,average=\"macro\")\n",
        "# f1ScoreSVMRBF3=f1_score(Y_test3, y_predSVMRBF3,average=\"macro\")\n",
        "# accSVMRBF3=accuracy_score(Y_test3, y_predSVMRBF3)"
      ],
      "metadata": {
        "id": "b3Ca-mhkmUJg"
      },
      "execution_count": null,
      "outputs": []
    },
    {
      "cell_type": "code",
      "source": [
        "# clfSigmoid3 = svm.SVC(kernel='sigmoid') #  Sigmoid Kernel\n",
        "# clfSigmoid3.fit(X_train3, Y_train3)\n",
        "# #Predict the response for test dataset\n",
        "# y_predSVMSigmoid3 = clfSigmoid3.predict(X_test3)\n",
        "\n",
        "# preSVMSigmoid3=precision_score(Y_test3, y_predSVMSigmoid3,average='macro')\n",
        "# recSVMSigmoid3=recall_score(Y_test3, y_predSVMSigmoid3,average=\"macro\")\n",
        "# f1ScoreSVMSigmoid3=f1_score(Y_test3, y_predSVMSigmoid3,average=\"macro\")\n",
        "# accSVMSigmoid3=accuracy_score(Y_test3, y_predSVMSigmoid3)\n"
      ],
      "metadata": {
        "id": "MThePBCRmXgT"
      },
      "execution_count": null,
      "outputs": []
    },
    {
      "cell_type": "code",
      "source": [
        "t=PrettyTable(['Decision Tree', 'kNN', 'Logistic Regression','Name metric mesura'])\n",
        "t.add_row(['Accuracy',accDecisionTree3,accKNN3,accReg3])\n",
        "t.add_row(['Precision',preDecisionTree3,preKNN3,preReg3])\n",
        "t.add_row(['Recall',recDecisionTree3,recKNN3,recReg3])\n",
        "t.add_row(['F1 measures',f1ScoreDecisionTree3,f1ScoreKNN3,f1ScoreReg3])\n",
        "print(t)\n",
        "\n",
        "\n",
        "preReg3=precision_score(Y_test3, y_predReg3,average='macro')\n",
        "recReg3=recall_score(Y_test3, y_predReg3,average=\"macro\")\n",
        "f1ScoreReg3=f1_score(Y_test3, y_predReg3,average=\"macro\")\n",
        "accReg3=accuracy_score(Y_test3, y_predReg3)\n",
        "\n"
      ],
      "metadata": {
        "colab": {
          "base_uri": "https://localhost:8080/"
        },
        "id": "ZCIls_nnmZ7v",
        "outputId": "475a0bae-6c03-40fc-b62f-d2e322506d80"
      },
      "execution_count": 6,
      "outputs": [
        {
          "output_type": "stream",
          "name": "stdout",
          "text": [
            "+---------------+---------------------+---------------------+--------------------+\n",
            "| Decision Tree |         kNN         | Logistic Regression | Name metric mesura |\n",
            "+---------------+---------------------+---------------------+--------------------+\n",
            "|    Accuracy   | 0.49504761904761907 |  0.9700952380952381 | 0.9186666666666666 |\n",
            "|   Precision   | 0.40486566520326034 |  0.9704297854438956 | 0.9175241086879247 |\n",
            "|     Recall    | 0.48680825571680186 |  0.9696369884949784 | 0.9173871590842142 |\n",
            "|  F1 measures  |  0.4269219036536572 |  0.9699026216193015 | 0.9173697624925989 |\n",
            "+---------------+---------------------+---------------------+--------------------+\n"
          ]
        }
      ]
    },
    {
      "cell_type": "markdown",
      "metadata": {
        "id": "Z5pp7_h-aP2u"
      },
      "source": [
        "#Task 4. \n",
        "Compare the performance of selected classification algorithms (Decision Tree, kNN, Logistic Regression) and SVM (using different kernels) with **credit card dataset** based on accuracy, precision, recall, f1 measures.\n",
        "\n",
        "*   Give some comments on the obtained results\n",
        "*   Identify issues with dataset, and propose the solutions to these issues\n",
        "\n"
      ]
    },
    {
      "cell_type": "code",
      "execution_count": 2,
      "metadata": {
        "colab": {
          "base_uri": "https://localhost:8080/"
        },
        "id": "Rw_-8FIf2KxW",
        "outputId": "41aaa616-72ed-419c-d563-fe29e374a7ac"
      },
      "outputs": [
        {
          "output_type": "stream",
          "name": "stdout",
          "text": [
            "Mounted at /content/gdrive\n",
            "/content/gdrive/MyDrive/ML/lab5\n"
          ]
        }
      ],
      "source": [
        "# code\n",
        "from google.colab import drive\n",
        "drive.mount('/content/gdrive')\n",
        "%cd '/content/gdrive/MyDrive/ML/lab5'\n",
        "dataset=pd.read_csv(\"creditcard.csv\")"
      ]
    },
    {
      "cell_type": "code",
      "execution_count": 3,
      "metadata": {
        "id": "yz4eBjaXmpOi"
      },
      "outputs": [],
      "source": [
        "\n",
        "train,validation, test = np.split(dataset.sample(frac=1), [int(.6*len(dataset)),\n",
        "int(.8*len(dataset))])\n",
        "\n",
        "X_train4 = train[[train.columns[i] for i in range(train.shape[1]-1) ]]\n",
        "Y_train4 = train[train.columns[-1]]\n",
        "# Assign the test split\n",
        "X_test4 = test[[test.columns[i] for i in range(train.shape[1]-1) ]]\n",
        "Y_test4 = test[test.columns[-1]]"
      ]
    },
    {
      "cell_type": "code",
      "execution_count": 4,
      "metadata": {
        "colab": {
          "base_uri": "https://localhost:8080/"
        },
        "id": "GCZjgWtnfQ0c",
        "outputId": "5db9414c-f5fa-46d4-f5b0-0545e2ef6f90"
      },
      "outputs": [
        {
          "output_type": "stream",
          "name": "stderr",
          "text": [
            "/usr/local/lib/python3.9/dist-packages/sklearn/linear_model/_logistic.py:458: ConvergenceWarning: lbfgs failed to converge (status=1):\n",
            "STOP: TOTAL NO. of ITERATIONS REACHED LIMIT.\n",
            "\n",
            "Increase the number of iterations (max_iter) or scale the data as shown in:\n",
            "    https://scikit-learn.org/stable/modules/preprocessing.html\n",
            "Please also refer to the documentation for alternative solver options:\n",
            "    https://scikit-learn.org/stable/modules/linear_model.html#logistic-regression\n",
            "  n_iter_i = _check_optimize_result(\n"
          ]
        }
      ],
      "source": [
        "classifier4 = LogisticRegression(random_state = 0)\n",
        "classifier4.fit(X_train4, Y_train4) \n",
        "\n",
        "y_predReg4 = classifier4.predict(X_test4)\n",
        "\n",
        "preReg4=precision_score(Y_test4, y_predReg4,average='macro')\n",
        "recReg4=recall_score(Y_test4, y_predReg4,average=\"macro\")\n",
        "f1ScoreReg4=f1_score(Y_test4, y_predReg4,average=\"macro\")\n",
        "accReg4=accuracy_score(Y_test4, y_predReg4)\n"
      ]
    },
    {
      "cell_type": "code",
      "execution_count": 6,
      "metadata": {
        "id": "1fq3HRCzuAiX"
      },
      "outputs": [],
      "source": [
        "model4 = KNeighborsClassifier(n_neighbors=5)\n",
        "# Train the model using the training sets\n",
        "model4.fit(X_train4,Y_train4)\n",
        "#Predict Output\n",
        "y_predKNN4 = model4.predict(X_test4) \n",
        "\n",
        "preKNN4=precision_score(Y_test4, y_predKNN4,average='macro')\n",
        "recKNN4=recall_score(Y_test4, y_predKNN4,average=\"macro\")\n",
        "f1ScoreKNN4=f1_score(Y_test4, y_predKNN4,average=\"macro\")\n",
        "accKNN4=accuracy_score(Y_test4, y_predKNN4)"
      ]
    },
    {
      "cell_type": "code",
      "execution_count": 7,
      "metadata": {
        "colab": {
          "base_uri": "https://localhost:8080/",
          "height": 248
        },
        "id": "A0e5P8pluELo",
        "outputId": "404359c0-f7b0-4286-b2fb-d44a1fa7f240"
      },
      "outputs": [
        {
          "output_type": "display_data",
          "data": {
            "text/plain": [
              "<Figure size 432x288 with 1 Axes>"
            ],
            "image/png": "[encoded data removed]"
          },
          "metadata": {
            "needs_background": "light"
          }
        }
      ],
      "source": [
        "\n",
        "clf_modelDecisionTree4 = DecisionTreeClassifier(criterion=\"gini\", random_state=42,\n",
        "max_depth=3, min_samples_leaf=5)\n",
        "clf_modelDecisionTree4.fit(X_train4,Y_train4)\n",
        "# Plot decision tree\n",
        "tree.plot_tree(clf_modelDecisionTree4)\n",
        "\n",
        "y_predDecisionTree4 = clf_modelDecisionTree4.predict(X_test4)\n",
        "\n",
        "preDecisionTree4=precision_score(Y_test4, y_predDecisionTree4,average='macro')\n",
        "recDecisionTree4=recall_score(Y_test4, y_predDecisionTree4,average=\"macro\")\n",
        "f1ScoreDecisionTree4=f1_score(Y_test4, y_predDecisionTree4,average=\"macro\")\n",
        "accDecisionTree4=accuracy_score(Y_test4, y_predDecisionTree4)"
      ]
    },
    {
      "cell_type": "code",
      "execution_count": 5,
      "metadata": {
        "id": "JORl4i95uGGT"
      },
      "outputs": [],
      "source": [
        "#  em chạy cái này tận 10 phút mới xong á thầy :(\n",
        "clfLinear4 = svm.SVC(kernel='linear') # linear kernel\n",
        "clfLinear4.fit(X_train4, Y_train4)\n",
        "\n",
        "#Predict the response for test dataset\n",
        "y_predSVMLinear4 = clfLinear4.predict(X_test4)\n",
        "\n",
        "preSVMLinear4=precision_score(Y_test4, y_predSVMLinear4,average='macro')\n",
        "recSVMLinear4=recall_score(Y_test4, y_predSVMLinear4,average=\"macro\")\n",
        "f1ScoreSVMLinear4=f1_score(Y_test4, y_predSVMLinear4,average=\"macro\")\n",
        "accSVMLinear4=accuracy_score(Y_test4, y_predSVMLinear4)"
      ]
    },
    {
      "cell_type": "code",
      "execution_count": null,
      "metadata": {
        "id": "4zo2ZFdWuJGE"
      },
      "outputs": [],
      "source": [
        "# mấy cái function của kernel khác nó cũng lâu nên em không chạy luôn \n",
        " \n",
        "#clfPoly4 = svm.SVC(kernel='poly') # Polynomial Kernel\n",
        "# clfPoly4.fit(X_train4, Y_train4)\n",
        "# #Predict the response for test dataset\n",
        "# y_predSVMPoly4 = clfPoly4.predict(X_test4)\n",
        "\n",
        "# preSVMPoly4=precision_score(Y_test4, y_predSVMPoly4,average='macro')\n",
        "# recSVMPoly4=recall_score(Y_test4, y_predSVMPoly4,average=\"macro\")\n",
        "# f1ScoreSVMPoly4=f1_score(Y_test4, y_predSVMPoly4,average=\"macro\")\n",
        "# accSVMPoly4=accuracy_score(Y_test4, y_predSVMPoly4)\n"
      ]
    },
    {
      "cell_type": "code",
      "execution_count": null,
      "metadata": {
        "id": "AehZefjXuLew"
      },
      "outputs": [],
      "source": [
        "# clfRBF4 = svm.SVC(kernel='rbf') #  Radial Basis Function Kernel\n",
        "# clfRBF4.fit(X_train4, Y_train4)\n",
        "# #Predict the response for test dataset\n",
        "# y_predSVMRBF4 = clfRBF4.predict(X_test4)\n",
        "\n",
        "# preSVMRBF4=precision_score(Y_test4, y_predSVMRBF4,average='macro')\n",
        "# recSVMRBF4=recall_score(Y_test4, y_predSVMRBF4,average=\"macro\")\n",
        "# f1ScoreSVMRBF4=f1_score(Y_test4, y_predSVMRBF4,average=\"macro\")\n",
        "# accSVMRBF4=accuracy_score(Y_test4, y_predSVMRBF4)\n"
      ]
    },
    {
      "cell_type": "code",
      "execution_count": null,
      "metadata": {
        "id": "O-_w42FsuPN3"
      },
      "outputs": [],
      "source": [
        "# clfSigmoid4 = svm.SVC(kernel='sigmoid') #  Sigmoid Kernel\n",
        "# clfSigmoid4.fit(X_train4, Y_train4)\n",
        "# #Predict the response for test dataset\n",
        "# y_predSVMSigmoid4 = clfSigmoid4.predict(X_test4)\n",
        "\n",
        "# preSVMSigmoid4=precision_score(Y_test4, y_predSVMSigmoid4,average='macro')\n",
        "# recSVMSigmoid4=recall_score(Y_test4, y_predSVMSigmoid4,average=\"macro\")\n",
        "# f1ScoreSVMSigmoid4=f1_score(Y_test4, y_predSVMSigmoid4,average=\"macro\")\n",
        "# accSVMSigmoid4=accuracy_score(Y_test4, y_predSVMSigmoid4)\n"
      ]
    },
    {
      "cell_type": "code",
      "execution_count": 11,
      "metadata": {
        "id": "jdLmRnswuP8z",
        "colab": {
          "base_uri": "https://localhost:8080/"
        },
        "outputId": "d313862a-ae7e-4536-e976-948686176a94"
      },
      "outputs": [
        {
          "output_type": "stream",
          "name": "stdout",
          "text": [
            "+--------------------+--------------------+---------------------+--------------------+--------------------+\n",
            "| Name metric mesura |   Linear kernel    | Logistic Regression |        kNN         |   Decision Tree    |\n",
            "+--------------------+--------------------+---------------------+--------------------+--------------------+\n",
            "|      Accuracy      | 0.9984551104244935 |  0.9990871107053826 | 0.9982093325374811 | 0.9991397773954567 |\n",
            "|     Precision      | 0.8269887093568358 |  0.8747801386006262 | 0.999104603391973  | 0.899736226634076  |\n",
            "|       Recall       | 0.8818380297394809 |  0.8818380297394809 | 0.5188679245283019 | 0.8583234772520316 |\n",
            "|    F1 measures     | 0.7313205378889232 |  0.8782760210635845 | 0.5359155368328229 | 0.8778940169845355 |\n",
            "+--------------------+--------------------+---------------------+--------------------+--------------------+\n"
          ]
        }
      ],
      "source": [
        "t=PrettyTable(['Name metric mesura','Linear kernel','Logistic Regression','kNN','Decision Tree'])\n",
        "t.add_row(['Accuracy',accSVMLinear4,accReg4,accKNN4,accDecisionTree4])\n",
        "t.add_row(['Precision',preSVMLinear4,preReg4,preKNN4,preDecisionTree4])\n",
        "t.add_row(['Recall',recReg4,recReg4,recKNN4,recDecisionTree4])\n",
        "t.add_row(['F1 measures',f1ScoreSVMLinear4,f1ScoreReg4,f1ScoreKNN4,f1ScoreDecisionTree4])\n",
        "print(t)\n",
        "\n",
        "\n",
        "\n",
        "\n",
        "\n",
        "\n",
        "\n"
      ]
    },
    {
      "cell_type": "markdown",
      "metadata": {
        "id": "Ok7RGkea_b7n"
      },
      "source": [
        "#Finally,\n",
        "Save a copy in your Github. Remember renaming the notebook."
      ]
    }
  ],
  "metadata": {
    "colab": {
      "provenance": [],
      "collapsed_sections": [
        "kNv07ARGzOUm",
        "S43IoUT-0OQq"
      ],
      "include_colab_link": true
    },
    "kernelspec": {
      "display_name": "Python 3",
      "name": "python3"
    },
    "language_info": {
      "name": "python"
    }
  },
  "nbformat": 4,
  "nbformat_minor": 0
}